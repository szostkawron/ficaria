{
 "cells": [
  {
   "cell_type": "code",
   "id": "e0250766",
   "metadata": {
    "ExecuteTime": {
     "end_time": "2025-09-15T22:00:03.413934Z",
     "start_time": "2025-09-15T22:00:01.415559Z"
    }
   },
   "source": [
    "import pandas as pd\n",
    "import numpy as np\n",
    "import os\n",
    "import sys\n",
    "sys.path.append(os.path.abspath(\"..\"))\n",
    "from ficaria.missing_imputation import FCMCentroidImputer, FCMParameterImputer, FCMRoughParameterImputer"
   ],
   "outputs": [],
   "execution_count": 1
  },
  {
   "cell_type": "code",
   "execution_count": 15,
   "id": "606e14a6",
   "metadata": {},
   "outputs": [
    {
     "name": "stdout",
     "output_type": "stream",
     "text": [
      "         age  income\n",
      "0  25.000000   50000\n",
      "1  26.000000   55000\n",
      "2  28.000000   58000\n",
      "3  51.000000   85000\n",
      "4  53.000000   90000\n",
      "5  72.000000  120000\n",
      "6  75.000000  125000\n",
      "7  51.995552  100000\n"
     ]
    }
   ],
   "source": [
    "# Sample data\n",
    "data = pd.DataFrame({\n",
    "    'age': [25, 26, 28, 51, 53, 72, 75, np.nan],\n",
    "    'income': [50000, 55000, 58000, 85000, 90000, 120000, 125000, 100000]\n",
    "})\n",
    "\n",
    "\n",
    "imputer = FCMCentroidImputer(n_clusters=3)\n",
    "imputer.fit(data)\n",
    "filled_data = imputer.transform(data)\n",
    "\n",
    "print(filled_data)"
   ]
  },
  {
   "cell_type": "code",
   "execution_count": 16,
   "id": "771c5b07",
   "metadata": {},
   "outputs": [
    {
     "name": "stdout",
     "output_type": "stream",
     "text": [
      "         age  income\n",
      "0  25.000000   50000\n",
      "1  26.000000   55000\n",
      "2  28.000000   58000\n",
      "3  51.000000   85000\n",
      "4  53.000000   90000\n",
      "5  72.000000  120000\n",
      "6  75.000000  125000\n",
      "7  55.404024  100000\n"
     ]
    }
   ],
   "source": [
    "imputer = FCMParameterImputer(n_clusters=3)\n",
    "imputer.fit(data)\n",
    "filled_data = imputer.transform(data)\n",
    "print(filled_data)"
   ]
  },
  {
   "cell_type": "code",
   "execution_count": 17,
   "id": "ceec8ed9",
   "metadata": {},
   "outputs": [
    {
     "name": "stdout",
     "output_type": "stream",
     "text": [
      "    age  income\n",
      "0  25.0   50000\n",
      "1  26.0   55000\n",
      "2  28.0   58000\n",
      "3  51.0   85000\n",
      "4  53.0   90000\n",
      "5  72.0  120000\n",
      "6  75.0  125000\n",
      "7  52.0  100000\n"
     ]
    }
   ],
   "source": [
    "imputer = FCMRoughParameterImputer(n_clusters=3)\n",
    "imputer.fit(data)\n",
    "filled_data = imputer.transform(data)\n",
    "print(filled_data)"
   ]
  }
 ],
 "metadata": {
  "kernelspec": {
   "display_name": ".venv (3.12.2)",
   "language": "python",
   "name": "python3"
  },
  "language_info": {
   "codemirror_mode": {
    "name": "ipython",
    "version": 3
   },
   "file_extension": ".py",
   "mimetype": "text/x-python",
   "name": "python",
   "nbconvert_exporter": "python",
   "pygments_lexer": "ipython3",
   "version": "3.12.2"
  }
 },
 "nbformat": 4,
 "nbformat_minor": 5
}
