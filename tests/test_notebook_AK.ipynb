{
 "cells": [
  {
   "cell_type": "code",
   "execution_count": 1,
   "id": "e0250766",
   "metadata": {
    "ExecuteTime": {
     "end_time": "2025-09-15T22:00:03.413934Z",
     "start_time": "2025-09-15T22:00:01.415559Z"
    }
   },
   "outputs": [],
   "source": [
    "import pandas as pd\n",
    "import numpy as np\n",
    "import os\n",
    "import sys\n",
    "sys.path.append(os.path.abspath(\"..\"))\n",
    "pd.set_option(\"display.precision\", 2)\n",
    "from ficaria.missing_imputation import FCMCentroidImputer, FCMParameterImputer, FCMRoughParameterImputer"
   ]
  },
  {
   "cell_type": "code",
   "execution_count": 2,
   "id": "606e14a6",
   "metadata": {},
   "outputs": [
    {
     "name": "stdout",
     "output_type": "stream",
     "text": [
      "    age  income\n",
      "0  25.0   50000\n",
      "1  26.0   55000\n",
      "2  28.0   58000\n",
      "3  51.0   85000\n",
      "4  53.0   90000\n",
      "5  72.0  120000\n",
      "6  75.0  125000\n",
      "7  52.0  100000\n"
     ]
    }
   ],
   "source": [
    "# Sample data\n",
    "data = pd.DataFrame({\n",
    "    'age': [25, 26, 28, 51, 53, 72, 75, np.nan],\n",
    "    'income': [50000, 55000, 58000, 85000, 90000, 120000, 125000, 100000]\n",
    "})\n",
    "\n",
    "\n",
    "imputer = FCMCentroidImputer(n_clusters=3)\n",
    "imputer.fit(data)\n",
    "filled_data = imputer.transform(data)\n",
    "\n",
    "print(filled_data)"
   ]
  },
  {
   "cell_type": "code",
   "execution_count": 3,
   "id": "771c5b07",
   "metadata": {},
   "outputs": [
    {
     "name": "stdout",
     "output_type": "stream",
     "text": [
      "   systolic_bp  diastolic_bp  heart_rate\n",
      "0       120.00         80.00       70.00\n",
      "1       130.00         85.00       72.00\n",
      "2       125.00         82.15       75.00\n",
      "3       138.15         88.00       77.45\n",
      "4       140.00         90.00       78.00\n",
      "5       135.00         82.00       80.00\n",
      "6       136.95         95.00       76.00\n",
      "7       150.00        100.00       76.95\n"
     ]
    }
   ],
   "source": [
    "data = pd.DataFrame({\n",
    "    'systolic_bp': [120, 130, 125, np.nan, 140, 135, np.nan, 150],\n",
    "    'diastolic_bp': [80, 85, np.nan, 88, 90, 82, 95, 100],\n",
    "    'heart_rate': [70, 72, 75, np.nan, 78, 80, 76, np.nan]\n",
    "})\n",
    "\n",
    "imputer = FCMParameterImputer(n_clusters=3)\n",
    "imputer.fit(data)\n",
    "filled_data = imputer.transform(data)\n",
    "\n",
    "print(filled_data)"
   ]
  },
  {
   "cell_type": "code",
   "execution_count": 4,
   "id": "ceec8ed9",
   "metadata": {},
   "outputs": [
    {
     "name": "stdout",
     "output_type": "stream",
     "text": [
      "   temperature  humidity  pressure\n",
      "0         21.5      40.0    1012.0\n",
      "1         22.0      42.0    1013.0\n",
      "2         21.5      38.0    1011.0\n",
      "3         23.1      40.0    1010.0\n",
      "4         21.8      41.0    1013.0\n",
      "5         22.3      43.0    1014.0\n",
      "6         21.5      39.0    1012.0\n",
      "7         22.7      43.0    1014.0\n"
     ]
    }
   ],
   "source": [
    "data = pd.DataFrame({\n",
    "    'temperature': [21.5, 22.0, np.nan, 23.1, 21.8, 22.3, np.nan, 22.7],\n",
    "    'humidity': [40, 42, 38, np.nan, 41, 43, 39, np.nan],\n",
    "    'pressure': [1012, 1013, 1011, 1010, np.nan, 1014, 1012, np.nan]\n",
    "})\n",
    "\n",
    "imputer = FCMRoughParameterImputer(n_clusters=3, max_iter=1000)\n",
    "imputer.fit(data)\n",
    "filled_data = imputer.transform(data)\n",
    "print(filled_data)"
   ]
  }
 ],
 "metadata": {
  "kernelspec": {
   "display_name": "Python 3",
   "language": "python",
   "name": "python3"
  },
  "language_info": {
   "codemirror_mode": {
    "name": "ipython",
    "version": 3
   },
   "file_extension": ".py",
   "mimetype": "text/x-python",
   "name": "python",
   "nbconvert_exporter": "python",
   "pygments_lexer": "ipython3",
   "version": "3.12.2"
  }
 },
 "nbformat": 4,
 "nbformat_minor": 5
}
